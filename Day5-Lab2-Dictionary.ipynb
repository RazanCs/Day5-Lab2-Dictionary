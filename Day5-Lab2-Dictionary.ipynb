{
 "cells": [
  {
   "cell_type": "code",
   "execution_count": null,
   "id": "322f175c",
   "metadata": {},
   "outputs": [],
   "source": [
    "book = {\"Amal\":1111111111, \"Mohammed\":2222222222, \"Khadijah\":3333333333,\"Abdullah\":4444444444,\"Rawan\":5555555555,\"Faisal\":6666666666,\"Layla\":7777777777}\n",
    "x = int(input('enter number'))\n",
    " if len(x)!=10 and x.isdigit()!= True:\n",
    "    print(\"This is invalid number\")\n",
    "    for x in book: \n",
    "        if x== book.value();\n",
    "           print(\"owner\")    \n",
    "        else:\n",
    "            print(\"Sorry, the number is not found\")\n",
    "       "
   ]
  },
  {
   "cell_type": "code",
   "execution_count": null,
   "id": "d687ee1a",
   "metadata": {},
   "outputs": [],
   "source": []
  },
  {
   "cell_type": "code",
   "execution_count": null,
   "id": "a6fa1385",
   "metadata": {},
   "outputs": [],
   "source": []
  }
 ],
 "metadata": {
  "kernelspec": {
   "display_name": "Python 3 (ipykernel)",
   "language": "python",
   "name": "python3"
  },
  "language_info": {
   "codemirror_mode": {
    "name": "ipython",
    "version": 3
   },
   "file_extension": ".py",
   "mimetype": "text/x-python",
   "name": "python",
   "nbconvert_exporter": "python",
   "pygments_lexer": "ipython3",
   "version": "3.9.12"
  }
 },
 "nbformat": 4,
 "nbformat_minor": 5
}
